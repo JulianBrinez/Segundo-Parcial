{
  "cells": [
    {
      "cell_type": "markdown",
      "metadata": {
        "id": "view-in-github",
        "colab_type": "text"
      },
      "source": [
        "<a href=\"https://colab.research.google.com/github/JulianBrinez/Segundo-Parcial/blob/main/SegundoPUNTO.ipynb\" target=\"_parent\"><img src=\"https://colab.research.google.com/assets/colab-badge.svg\" alt=\"Open In Colab\"/></a>"
      ]
    },
    {
      "cell_type": "markdown",
      "source": [
        "# Julian Briñez Segundo parcial\n"
      ],
      "metadata": {
        "id": "OBFnrElvW7vt"
      }
    },
    {
      "cell_type": "markdown",
      "source": [
        "**PUNTO 2 SEGUNDO PARCIAL**"
      ],
      "metadata": {
        "id": "JQ_pQ5YaW9Hn"
      }
    },
    {
      "cell_type": "code",
      "source": [
        "!pip install mesa\n",
        "\n"
      ],
      "metadata": {
        "id": "fAPykXH_cB6D"
      },
      "execution_count": null,
      "outputs": []
    },
    {
      "cell_type": "code",
      "source": [
        "from mesa import Agent, Model\n",
        "import re\n",
        "import queue\n",
        "\n",
        "class OperationAgent(Agent):\n",
        "    def __init__(self, unique_id, model, operation):\n",
        "        super().__init__(unique_id, model)\n",
        "        self.operation = operation\n",
        "\n",
        "    def operar(self, a, b):\n",
        "        if self.operation == '+':\n",
        "            return a + b\n",
        "        elif self.operation == '-':\n",
        "            return a - b\n",
        "        elif self.operation == '*':\n",
        "            return a * b\n",
        "        elif self.operation == '/':\n",
        "            return a / b if b != 0 else \"Error: División por cero\"\n",
        "\n",
        "class CommunicationAgent(Agent):\n",
        "    def __init__(self, unique_id, model):\n",
        "        super().__init__(unique_id, model)\n",
        "        self.mensajes = queue.Queue()\n",
        "\n",
        "    def enviar_mensaje(self, mensaje):\n",
        "        self.mensajes.put(mensaje)\n",
        "\n",
        "    def recibir_mensaje(self):\n",
        "        if not self.mensajes.empty():\n",
        "            return self.mensajes.get()\n",
        "        return None\n",
        "\n",
        "class CalculadoraModel(Model):\n",
        "    def __init__(self):\n",
        "        self.schedule = None\n",
        "        self.agentes = {\n",
        "            '+': OperationAgent(1, self, '+'),\n",
        "            '-': OperationAgent(2, self, '-'),\n",
        "            '*': OperationAgent(3, self, '*'),\n",
        "            '/': OperationAgent(4, self, '/'),\n",
        "            'comunicacion': CommunicationAgent(5, self)\n",
        "        }\n",
        "\n",
        "    def resolver_expresion(self, expresion):\n",
        "        tokens = re.findall(r'\\d+\\.\\d+|\\d+|[+\\-*/()]', expresion)\n",
        "        postfix = self._infix_a_postfix(tokens)\n",
        "        return self._evaluar_postfix(postfix)\n",
        "\n",
        "    def _infix_a_postfix(self, tokens):\n",
        "        precedencia = {'+': 1, '-': 1, '*': 2, '/': 2}\n",
        "        output = []\n",
        "        operadores = []\n",
        "\n",
        "        for token in tokens:\n",
        "            if re.match(r'\\d+\\.\\d+|\\d+', token):\n",
        "                output.append(float(token) if '.' in token else int(token))\n",
        "            elif token in precedencia:\n",
        "                while (operadores and operadores[-1] in precedencia and\n",
        "                       precedencia[operadores[-1]] >= precedencia[token]):\n",
        "                    output.append(operadores.pop())\n",
        "                operadores.append(token)\n",
        "            elif token == '(':\n",
        "                operadores.append(token)\n",
        "            elif token == ')':\n",
        "                while operadores and operadores[-1] != '(':\n",
        "                    output.append(operadores.pop())\n",
        "                operadores.pop()\n",
        "\n",
        "        while operadores:\n",
        "            output.append(operadores.pop())\n",
        "\n",
        "        return output\n",
        "\n",
        "    def _evaluar_postfix(self, postfix):\n",
        "        pila = []\n",
        "\n",
        "        for token in postfix:\n",
        "            if isinstance(token, (int, float)):\n",
        "                pila.append(token)\n",
        "            else:\n",
        "                b = pila.pop()\n",
        "                a = pila.pop()\n",
        "                resultado = self.agentes[token].operar(a, b)\n",
        "                self.agentes['comunicacion'].enviar_mensaje(f'Resultado de {a} {token} {b} es {resultado}')\n",
        "                pila.append(resultado)\n",
        "\n",
        "        return pila[0] if pila else \"Error en la expresión\"\n",
        "\n",
        "calculadora = CalculadoraModel()\n",
        "resultado = calculadora.resolver_expresion(\"2 + 3 * 4 - 5\")\n",
        "print(\"Resultado de 2 + 3 * 4 - 5:\", resultado)\n",
        "\n",
        "comunicacion_agent = calculadora.agentes['comunicacion']\n",
        "while not comunicacion_agent.mensajes.empty():\n",
        "    print(comunicacion_agent.recibir_mensaje())\n"
      ],
      "metadata": {
        "colab": {
          "base_uri": "https://localhost:8080/"
        },
        "id": "EQIA_GAdcJJ7",
        "outputId": "d9f6469d-a59f-4986-9f79-a539ea348ac3"
      },
      "execution_count": 37,
      "outputs": [
        {
          "output_type": "stream",
          "name": "stdout",
          "text": [
            "Resultado de 2 + 3 * 4 - 5: 9\n",
            "Resultado de 3 * 4 es 12\n",
            "Resultado de 2 + 12 es 14\n",
            "Resultado de 14 - 5 es 9\n"
          ]
        }
      ]
    }
  ],
  "metadata": {
    "colab": {
      "name": "Te damos la bienvenida a Colaboratory",
      "toc_visible": true,
      "provenance": [],
      "include_colab_link": true
    },
    "kernelspec": {
      "display_name": "Python 3",
      "name": "python3"
    }
  },
  "nbformat": 4,
  "nbformat_minor": 0
}